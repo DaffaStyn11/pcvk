{
  "nbformat": 4,
  "nbformat_minor": 0,
  "metadata": {
    "colab": {
      "provenance": [],
      "mount_file_id": "1s4TGUuW2Qlo1e7gse4rqH9Oiyc72RvWR",
      "authorship_tag": "ABX9TyP6xt/xHK/AvFIqqti+ephs",
      "include_colab_link": true
    },
    "kernelspec": {
      "name": "python3",
      "display_name": "Python 3"
    },
    "language_info": {
      "name": "python"
    }
  },
  "cells": [
    {
      "cell_type": "markdown",
      "metadata": {
        "id": "view-in-github",
        "colab_type": "text"
      },
      "source": [
        "<a href=\"https://colab.research.google.com/github/DaffaStyn11/pcvk/blob/main/pcvk_p5.ipynb\" target=\"_parent\"><img src=\"https://colab.research.google.com/assets/colab-badge.svg\" alt=\"Open In Colab\"/></a>"
      ]
    },
    {
      "cell_type": "code",
      "source": [
        "from google.colab import drive\n",
        "drive.mount('/content/drive')"
      ],
      "metadata": {
        "colab": {
          "base_uri": "https://localhost:8080/"
        },
        "id": "5lSGqPRMrGX-",
        "outputId": "e545c7c7-f350-4f4e-9057-97729e87a11a"
      },
      "execution_count": 2,
      "outputs": [
        {
          "output_type": "stream",
          "name": "stdout",
          "text": [
            "Drive already mounted at /content/drive; to attempt to forcibly remount, call drive.mount(\"/content/drive\", force_remount=True).\n"
          ]
        }
      ]
    },
    {
      "cell_type": "code",
      "source": [
        "import cv2 as cv\n",
        "from google.colab.patches import cv2_imshow\n",
        "from skimage import io\n",
        "import matplotlib.pyplot as plt\n",
        "import numpy as np\n",
        "img = cv.imread('/content/drive/MyDrive/Images/female.tiff')\n",
        "plt.imshow(img)"
      ],
      "metadata": {
        "id": "VQ4zDu6ItAwS"
      },
      "execution_count": null,
      "outputs": []
    },
    {
      "cell_type": "code",
      "source": [
        "print(' Gamma Correction pada citra ') \n",
        "print('----------------------------------') \n",
        "try: \n",
        " gamma = int(input('Masukkan nilai Gamma: ')) \n",
        "except ValueError: \n",
        " print('Error, not a number')"
      ],
      "metadata": {
        "id": "GSg91-VUrFuN"
      },
      "execution_count": null,
      "outputs": []
    }
  ]
}